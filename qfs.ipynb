{
 "cells": [
  {
   "cell_type": "markdown",
   "id": "bfd1e54c",
   "metadata": {},
   "source": [
    "## Quantum Feature Selection for ML\n",
    "\n",
    "A hybrid quantum computing-based approach for optimal feature selection in machine learning.\n",
    "\n",
    "Quantum Feature Selecton is hyrbid quantum computing approach to optimize feature selection in artificial intelligence/machine learning (AI/ML) model training and prediction. This solution approaches feature selection as an optimization problem and selects the most critical variables and eliminates the redundant and irrelevant ones. The solution increases the predictive power of machine learning applications, decreases over-fitting and reduces training time. \n",
    "\n",
    "This sample notebook shows you how to use quantum feature selection algorithm from AWS Marketplace.\n",
    "\n",
    "> **Note**: This is a reference notebook and it cannot run unless you make changes suggested in the notebook.\n",
    "\n",
    "#### Pre-requisites:\n",
    "1. **Note**: This notebook contains elements which render correctly in Jupyter interface. Open this notebook from an Amazon SageMaker Notebook Instance or Amazon SageMaker Studio.\n",
    "1. Ensure that IAM role used has **AmazonSageMakerFullAccess**\n",
    "1. Some hands-on experience using [Amazon SageMaker](https://aws.amazon.com/sagemaker/).\n",
    "1. To use this algorithm successfully, ensure that:\n",
    "    1. Either your IAM role has these three permissions and you have authority to make AWS Marketplace subscriptions in the AWS account used: \n",
    "        1. **aws-marketplace:ViewSubscriptions**\n",
    "        1. **aws-marketplace:Unsubscribe**\n",
    "        1. **aws-marketplace:Subscribe**  \n",
    "    2. or your AWS account has a subscription to For Seller to update: ML Robustness: Poison attack on images. \n",
    "\n",
    "#### Contents:\n",
    "1. [Subscribe to the algorithm](#1.-Subscribe-to-the-algorithm)\n",
    "1. [Prepare dataset](#2.-Prepare-dataset)\n",
    "\t1. [Dataset format expected by the algorithm](#A.-Dataset-format-expected-by-the-algorithm)\n",
    "\t1. [Configure dataset](#B.-Configure-dataset)\n",
    "\t1. [Upload datasets to Amazon S3](#C.-Upload-datasets-to-Amazon-S3)\n",
    "1. [Execute the training process](#3.-Execute-the-training-process)\n",
    "\t1. [Set up environment](#3.1-Set-up-environment)\n",
    "\t1. [Execute model](#3.2-Execute-model)\n",
    "    1. [Visualize Output](#3.3-Inspect-the-Output-in-S3)\n",
    "1. [Clean-up](#4.-Clean-up)\n",
    "\t1. [Unsubscribe to the listing (optional)](#Unsubscribe-to-the-listing-(optional))\n",
    "\n",
    "\n",
    "#### Usage instructions\n",
    "You can run this notebook one cell at a time (By using Shift+Enter for running a cell)."
   ]
  },
  {
   "cell_type": "markdown",
   "id": "47ed291f",
   "metadata": {},
   "source": [
    "### 1. Subscribe to the algorithm"
   ]
  },
  {
   "cell_type": "markdown",
   "id": "0a7414b7",
   "metadata": {},
   "source": [
    "To subscribe to the algorithm:\n",
    "1. Open the algorithm listing page **Quantum Feature Selection for Machine Learning**\n",
    "1. On the AWS Marketplace listing,  click on **Continue to subscribe** button.\n",
    "1. On the **Subscribe to this software** page, review and click on **\"Accept Offer\"** if you agree with EULA, pricing, and support terms. \n",
    "1. Once you click on **Continue to configuration button** and then choose a **region**, you will see a **Product Arn**. This is the algorithm ARN that you need to specify while training a custom ML model. Copy the ARN corresponding to your region and specify the same in the following cell."
   ]
  },
  {
   "cell_type": "code",
   "execution_count": 1,
   "id": "2169a450",
   "metadata": {},
   "outputs": [],
   "source": [
    "algo_arn = \"\""
   ]
  },
  {
   "cell_type": "markdown",
   "id": "06006e33",
   "metadata": {},
   "source": [
    "### 2. Prepare dataset"
   ]
  },
  {
   "cell_type": "code",
   "execution_count": 2,
   "id": "7a6dd259",
   "metadata": {},
   "outputs": [],
   "source": [
    "import os\n",
    "import json \n",
    "import uuid\n",
    "import boto3\n",
    "import pickle\n",
    "import base64\n",
    "import tarfile\n",
    "from pprint import pprint\n",
    "\n",
    "import numpy as np\n",
    "import pandas as pd\n",
    "\n",
    "import urllib.request\n",
    "from urllib.parse import urlparse\n",
    "\n",
    "import sagemaker as sage\n",
    "from sagemaker import ModelPackage\n",
    "from sagemaker import get_execution_role"
   ]
  },
  {
   "cell_type": "markdown",
   "id": "ceae684c",
   "metadata": {},
   "source": [
    "#### A. Dataset format expected by the algorithm"
   ]
  },
  {
   "cell_type": "markdown",
   "id": "64cdfe5b",
   "metadata": {},
   "source": [
    "The algorithm requires data in the format as described for best results:\n",
    "* Input File name should be input.zip\n",
    "* The input data files must contain a csv and json file, input.csv and input_config.json respectively.\n",
    "* For detailed instructions, please refer sample input and algorithm input details."
   ]
  },
  {
   "cell_type": "markdown",
   "id": "56f8a49e",
   "metadata": {},
   "source": [
    "#### B. Configure dataset"
   ]
  },
  {
   "cell_type": "markdown",
   "id": "e74e1c5d",
   "metadata": {},
   "source": [
    "Instructions\n",
    "\n",
    "    Supported content types: 'zip' file only with file name 'input.zip'.The zip file includes two files with following name and information.\n",
    "\n",
    "    a. 'input.csv' : This csv file contains features as 'feature_0', 'feature_1', upto 'feature_N',along with target column as 'Class'. The feature selection algorithm selects name of these described features.\n",
    "    \n",
    "\n",
    "    b. 'input_config.json' : This json contains algorithm configuration including dwave credentials and dataset field descriptions.\n",
    "\n",
    "    Mandatory Fields:\n",
    "\n",
    "    a. 'input_config.json': dwave_sapi_token, target_variable, discrete_features, number_of_features_to_be_selected ,alpha , number_of_runs.\n",
    "\n",
    "    Input field descriptions:\n",
    "\n",
    "    a. 'dwave_sapi_token' : The user secure API token of Dwave Leap quantum cloud service. For example,'dwave_sapi_token'= 'DEV-****'. This API token is provided after registering and subscribing to Dwave Leap cloud service.\n",
    "\n",
    "    b. 'target_variable' : The name of the target variable as mentioned in the input.csv file. For example, \"Class\" is the target variable name in the sample input file.\n",
    "\n",
    "    c. 'discrete_features' : The list of name of all the discrete type of features/variables including both independent and dependent variables in the dataset i.e, input.csv file. For example, \"Class\" is the only discrete variable in the sample input file.\n",
    "\n",
    "    d. 'number_of_features_to_be_selected': The number of features to be selected.\n",
    "\n",
    "    e. 'alpha': This is a hyper-paramter that adjusts for relevancy and redundancy in the dataset. The higher the value, the more focus of algorithm is on maximizing relevancy and less focus on minimizing redundancy. For example, the value of alpha =0.5, gives equal weightage to both of the objectives of the algorithm.\n",
    "\n",
    "    f. 'number_of_runs': The number of runs a Dwave solver should be iterated through, to get the desired results (Numerical)."
   ]
  },
  {
   "cell_type": "code",
   "execution_count": 6,
   "id": "df201739",
   "metadata": {},
   "outputs": [],
   "source": [
    "training_dataset=\"input/input.zip\""
   ]
  },
  {
   "cell_type": "markdown",
   "id": "d98c6be9",
   "metadata": {},
   "source": [
    "#### C. Upload datasets to Amazon S3"
   ]
  },
  {
   "cell_type": "code",
   "execution_count": 7,
   "id": "15e50755",
   "metadata": {},
   "outputs": [],
   "source": [
    "role = get_execution_role()"
   ]
  },
  {
   "cell_type": "code",
   "execution_count": 6,
   "id": "f990e253",
   "metadata": {},
   "outputs": [],
   "source": [
    "sagemaker_session = sage.Session()\n",
    "\n",
    "bucket = sagemaker_session.default_bucket()\n",
    "bucket"
   ]
  },
  {
   "cell_type": "code",
   "execution_count": null,
   "id": "cb47c63e",
   "metadata": {},
   "outputs": [],
   "source": [
    "# training input location\n",
    "common_prefix = \"qfs\"\n",
    "training_input_prefix = common_prefix + \"/training-input-data\"\n",
    "TRAINING_WORKDIR = \"input\" #Input directory in Jupyter Server\n",
    "training_input = sagemaker_session.upload_data(TRAINING_WORKDIR, key_prefix=training_input_prefix) #uploads data from jupyter server to S3\n",
    "print(\"Training input uploaded to \" + training_input)"
   ]
  },
  {
   "cell_type": "markdown",
   "id": "c025ff6e",
   "metadata": {},
   "source": [
    "## 3. Execute the training process"
   ]
  },
  {
   "cell_type": "markdown",
   "id": "43baf513",
   "metadata": {},
   "source": [
    "Now that dataset is available in an accessible Amazon S3 bucket, we are ready to execute a training pipeline to get clean sentiment class labels using clean-sentiment-classification-labels Algorithm. "
   ]
  },
  {
   "cell_type": "markdown",
   "id": "8c1d91a9",
   "metadata": {},
   "source": [
    "### 3.1 Set up environment"
   ]
  },
  {
   "cell_type": "code",
   "execution_count": 10,
   "id": "fff50204",
   "metadata": {},
   "outputs": [],
   "source": [
    "output_location = 's3://{}/{}/{}'.format(bucket, common_prefix,'Output')"
   ]
  },
  {
   "cell_type": "code",
   "execution_count": null,
   "id": "6ca5ab0c",
   "metadata": {},
   "outputs": [],
   "source": [
    "output_location"
   ]
  },
  {
   "cell_type": "markdown",
   "id": "b3289396",
   "metadata": {},
   "source": [
    "### 3.2 Execute model"
   ]
  },
  {
   "cell_type": "markdown",
   "id": "e221ce6d",
   "metadata": {},
   "source": [
    "For information on creating an `Estimator` object, see [documentation](https://sagemaker.readthedocs.io/en/stable/api/training/estimators.html)"
   ]
  },
  {
   "cell_type": "code",
   "execution_count": 12,
   "id": "847b5777",
   "metadata": {},
   "outputs": [],
   "source": [
    "training_instance_type=\"ml.m5.4xlarge\""
   ]
  },
  {
   "cell_type": "code",
   "execution_count": 13,
   "id": "2ccf00b2",
   "metadata": {
    "scrolled": true
   },
   "outputs": [
    {
     "name": "stdout",
     "output_type": "stream",
     "text": [
      "2024-01-05 08:28:40 Starting - Starting the training job...\n",
      "2024-01-05 08:29:03 Starting - Preparing the instances for trainingProfilerReport-1704443320: InProgress\n",
      "......\n",
      "2024-01-05 08:30:04 Downloading - Downloading input data...\n",
      "2024-01-05 08:30:24 Training - Training image download completed. Training in progress...........\u001b[34m/usr/local/lib/python3.6/dist-packages/urllib3/connectionpool.py:1068: InsecureRequestWarning: Unverified HTTPS request is being made to host 'na-west-1.cloud.dwavesys.com'. Adding certificate verification is strongly advised. See: https://urllib3.readthedocs.io/en/1.26.x/advanced-usage.html#ssl-warnings\n",
      "  InsecureRequestWarning,\u001b[0m\n",
      "\u001b[34m/usr/local/lib/python3.6/dist-packages/urllib3/connectionpool.py:1068: InsecureRequestWarning: Unverified HTTPS request is being made to host 'na-west-1.cloud.dwavesys.com'. Adding certificate verification is strongly advised. See: https://urllib3.readthedocs.io/en/1.26.x/advanced-usage.html#ssl-warnings\n",
      "  InsecureRequestWarning,\u001b[0m\n",
      "\u001b[34m/usr/local/lib/python3.6/dist-packages/urllib3/connectionpool.py:1068: InsecureRequestWarning: Unverified HTTPS request is being made to host 'na-west-1.cloud.dwavesys.com'. Adding certificate verification is strongly advised. See: https://urllib3.readthedocs.io/en/1.26.x/advanced-usage.html#ssl-warnings\n",
      "  InsecureRequestWarning,\u001b[0m\n",
      "\u001b[34m/usr/local/lib/python3.6/dist-packages/urllib3/connectionpool.py:1068: InsecureRequestWarning: Unverified HTTPS request is being made to host 'na-west-1.cloud.dwavesys.com'. Adding certificate verification is strongly advised. See: https://urllib3.readthedocs.io/en/1.26.x/advanced-usage.html#ssl-warnings\n",
      "  InsecureRequestWarning,\u001b[0m\n",
      "\u001b[34m/usr/local/lib/python3.6/dist-packages/urllib3/connectionpool.py:1068: InsecureRequestWarning: Unverified HTTPS request is being made to host 'na-west-1.cloud.dwavesys.com'. Adding certificate verification is strongly advised. See: https://urllib3.readthedocs.io/en/1.26.x/advanced-usage.html#ssl-warnings\n",
      "  InsecureRequestWarning,\u001b[0m\n",
      "\u001b[34m/usr/local/lib/python3.6/dist-packages/urllib3/connectionpool.py:1068: InsecureRequestWarning: Unverified HTTPS request is being made to host 'na-west-1.cloud.dwavesys.com'. Adding certificate verification is strongly advised. See: https://urllib3.readthedocs.io/en/1.26.x/advanced-usage.html#ssl-warnings\n",
      "  InsecureRequestWarning,\u001b[0m\n",
      "\u001b[34mtime taken for solver:  2.0213379859924316\u001b[0m\n",
      "\u001b[34m/usr/local/lib/python3.6/dist-packages/urllib3/connectionpool.py:1068: InsecureRequestWarning: Unverified HTTPS request is being made to host 'na-west-1.cloud.dwavesys.com'. Adding certificate verification is strongly advised. See: https://urllib3.readthedocs.io/en/1.26.x/advanced-usage.html#ssl-warnings\n",
      "  InsecureRequestWarning,\u001b[0m\n",
      "\u001b[34m/usr/local/lib/python3.6/dist-packages/urllib3/connectionpool.py:1068: InsecureRequestWarning: Unverified HTTPS request is being made to host 'na-west-1.cloud.dwavesys.com'. Adding certificate verification is strongly advised. See: https://urllib3.readthedocs.io/en/1.26.x/advanced-usage.html#ssl-warnings\n",
      "  InsecureRequestWarning,\u001b[0m\n",
      "\u001b[34m/usr/local/lib/python3.6/dist-packages/urllib3/connectionpool.py:1068: InsecureRequestWarning: Unverified HTTPS request is being made to host 'na-west-1.cloud.dwavesys.com'. Adding certificate verification is strongly advised. See: https://urllib3.readthedocs.io/en/1.26.x/advanced-usage.html#ssl-warnings\n",
      "  InsecureRequestWarning,\u001b[0m\n",
      "\u001b[34m/usr/local/lib/python3.6/dist-packages/urllib3/connectionpool.py:1068: InsecureRequestWarning: Unverified HTTPS request is being made to host 'na-west-1.cloud.dwavesys.com'. Adding certificate verification is strongly advised. See: https://urllib3.readthedocs.io/en/1.26.x/advanced-usage.html#ssl-warnings\n",
      "  InsecureRequestWarning,\u001b[0m\n",
      "\u001b[34m/usr/local/lib/python3.6/dist-packages/urllib3/connectionpool.py:1068: InsecureRequestWarning: Unverified HTTPS request is being made to host 'na-west-1.cloud.dwavesys.com'. Adding certificate verification is strongly advised. See: https://urllib3.readthedocs.io/en/1.26.x/advanced-usage.html#ssl-warnings\n",
      "  InsecureRequestWarning,\u001b[0m\n",
      "\u001b[34mtraining complete\u001b[0m\n",
      "\n",
      "2024-01-05 08:32:31 Uploading - Uploading generated training model\n",
      "2024-01-05 08:32:31 Completed - Training job completed\n",
      "Training seconds: 157\n",
      "Billable seconds: 157\n"
     ]
    }
   ],
   "source": [
    "#Create an estimator object for running a training job\n",
    "estimator = sage.algorithm.AlgorithmEstimator(\n",
    "    algorithm_arn=algo_arn,\n",
    "    base_job_name=\"qfs\",\n",
    "    role=role,\n",
    "    train_instance_count=1,\n",
    "    train_instance_type=training_instance_type,\n",
    "    input_mode=\"File\",\n",
    "    output_path=output_location,\n",
    "    sagemaker_session=sagemaker_session,\n",
    "    instance_count=1,\n",
    "    instance_type=training_instance_type\n",
    ")\n",
    "\n",
    "#Run the training job.\n",
    "estimator.fit({\"training\": training_input})"
   ]
  },
  {
   "cell_type": "markdown",
   "id": "a42e7ceb",
   "metadata": {},
   "source": [
    "See this [blog-post](https://aws.amazon.com/blogs/machine-learning/easily-monitor-and-visualize-metrics-while-training-models-on-amazon-sagemaker/) for more information how to visualize metrics during the process. You can also open the training job from [Amazon SageMaker console](https://console.aws.amazon.com/sagemaker/home?#/jobs/) and monitor the metrics/logs in **Monitor** section."
   ]
  },
  {
   "cell_type": "code",
   "execution_count": null,
   "id": "57ac8846",
   "metadata": {},
   "outputs": [],
   "source": [
    "#output is available on following path\n",
    "estimator.output_path"
   ]
  },
  {
   "cell_type": "markdown",
   "id": "95df9a62",
   "metadata": {},
   "source": [
    "## Note: Inferencing is done within training pipeline. Real time inference endpoint/batch transform job is not required."
   ]
  },
  {
   "cell_type": "markdown",
   "id": "f49abbd3",
   "metadata": {},
   "source": [
    "### 3.3 Inspect the Output in S3"
   ]
  },
  {
   "cell_type": "code",
   "execution_count": 15,
   "id": "c7aa5d54",
   "metadata": {},
   "outputs": [],
   "source": [
    "parsed_url = urlparse(estimator.output_path)\n",
    "bucket_name = parsed_url.netloc\n",
    "file_key = parsed_url.path[1:]+'/'+estimator.latest_training_job.job_name+'/output/'+\"model.tar.gz\"\n",
    "\n",
    "s3_client = sagemaker_session.boto_session.client('s3')\n",
    "response = s3_client.get_object(Bucket = sagemaker_session.default_bucket(), Key = file_key)"
   ]
  },
  {
   "cell_type": "code",
   "execution_count": 16,
   "id": "ec6e7954",
   "metadata": {},
   "outputs": [],
   "source": [
    "bucketFolder = estimator.output_path.rsplit('/')[3] +'/Output/'+ estimator.latest_training_job.job_name+'/output/'+\"model.tar.gz\""
   ]
  },
  {
   "cell_type": "code",
   "execution_count": null,
   "id": "bd08b85c",
   "metadata": {},
   "outputs": [],
   "source": [
    "s3_conn = boto3.client(\"s3\")\n",
    "bucket_name=bucket\n",
    "with open('output.tar.gz', 'wb') as f:\n",
    "    s3_conn.download_fileobj(bucket_name, bucketFolder, f)\n",
    "    print(\"Output file loaded from bucket\")"
   ]
  },
  {
   "cell_type": "code",
   "execution_count": 19,
   "id": "621618fd",
   "metadata": {},
   "outputs": [],
   "source": [
    "with tarfile.open('output.tar.gz') as file:\n",
    "    file.extractall('./output')"
   ]
  },
  {
   "cell_type": "code",
   "execution_count": 22,
   "id": "2399970b",
   "metadata": {},
   "outputs": [
    {
     "name": "stdout",
     "output_type": "stream",
     "text": [
      "Result\n"
     ]
    },
    {
     "data": {
      "text/plain": [
       "{'Optimial_selected_features': ['feature_3',\n",
       "  'feature_16',\n",
       "  'feature_18',\n",
       "  'feature_19',\n",
       "  'feature_26',\n",
       "  'feature_28',\n",
       "  'feature_29',\n",
       "  'feature_31',\n",
       "  'feature_35',\n",
       "  'feature_40',\n",
       "  'feature_44',\n",
       "  'feature_52',\n",
       "  'feature_64',\n",
       "  'feature_51',\n",
       "  'feature_53',\n",
       "  'feature_58',\n",
       "  'feature_73',\n",
       "  'feature_80',\n",
       "  'feature_66',\n",
       "  'feature_76']}"
      ]
     },
     "execution_count": 22,
     "metadata": {},
     "output_type": "execute_result"
    }
   ],
   "source": [
    "import json\n",
    "\n",
    "with open(\"output/output/output.json\",\"r\") as op:\n",
    "    output= json.load(op)\n",
    "\n",
    "print(\"Result:\")\n",
    "output\n",
    "    "
   ]
  },
  {
   "cell_type": "markdown",
   "id": "97cb7388",
   "metadata": {},
   "source": [
    "### 4. Clean-up"
   ]
  },
  {
   "cell_type": "markdown",
   "id": "6fd97319",
   "metadata": {},
   "source": [
    "#### Unsubscribe to the listing (optional)"
   ]
  },
  {
   "cell_type": "markdown",
   "id": "255f12e7",
   "metadata": {},
   "source": [
    "If you would like to unsubscribe to the algorithm, follow these steps. Before you cancel the subscription, ensure that you do not have any [deployable model](https://console.aws.amazon.com/sagemaker/home#/models) created from the model package or using the algorithm. Note - You can find this information by looking at the container name associated with the model. \n",
    "\n",
    "**Steps to unsubscribe to product from AWS Marketplace**:\n",
    "1. Navigate to __Machine Learning__ tab on [__Your Software subscriptions page__](https://aws.amazon.com/marketplace/ai/library?productType=ml&ref_=mlmp_gitdemo_indust)\n",
    "2. Locate the listing that you want to cancel the subscription for, and then choose __Cancel Subscription__  to cancel the subscription."
   ]
  }
 ],
 "metadata": {
  "kernelspec": {
   "display_name": "conda_python3",
   "language": "python",
   "name": "conda_python3"
  },
  "language_info": {
   "codemirror_mode": {
    "name": "ipython",
    "version": 3
   },
   "file_extension": ".py",
   "mimetype": "text/x-python",
   "name": "python",
   "nbconvert_exporter": "python",
   "pygments_lexer": "ipython3",
   "version": "3.6.13"
  }
 },
 "nbformat": 4,
 "nbformat_minor": 5
}
